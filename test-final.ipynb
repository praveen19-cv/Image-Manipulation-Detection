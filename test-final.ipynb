{
 "cells": [
  {
   "cell_type": "code",
   "execution_count": 50,
   "metadata": {},
   "outputs": [],
   "source": [
    "import pandas as pd\n",
    "import numpy as np\n",
    "from matplotlib import pyplot as plt\n",
    "from PIL import Image, ImageChops, ImageEnhance\n",
    "import tensorflow as tf"
   ]
  },
  {
   "cell_type": "code",
   "execution_count": 51,
   "metadata": {},
   "outputs": [],
   "source": [
    "\n",
    "from PIL import Image, ImageChops, ImageEnhance\n",
    "\n",
    "def difference(path):\n",
    "    filename = path\n",
    "    resaved_name = filename.split('.')[-2] + '_resaved.jpg'\n",
    "    resaved_name = resaved_name.split('/')[-1]\n",
    "    org = Image.open(filename).convert('RGB')\n",
    "    # org.save(resaved_name, 'JPEG', quality=30)\n",
    "    org.save(resaved_name, 'JPEG', quality=92)\n",
    "    resaved = Image.open(resaved_name)\n",
    "    diff = ImageChops.difference(org, resaved)\n",
    "    extrema = diff.getextrema()\n",
    "    max_diff = max([ex[1] for ex in extrema])\n",
    "    if max_diff == 0:\n",
    "        max_diff = 1\n",
    "    scale = 255.0 / max_diff\n",
    "    diff = ImageEnhance.Brightness(diff).enhance(scale)\n",
    "    \n",
    "    # Save the difference image with a new name\n",
    "    diff_name = filename.split('.')[-2] + '_diff.jpg'\n",
    "    diff.save(diff_name)\n",
    "    \n",
    "    return diff\n"
   ]
  },
  {
   "cell_type": "code",
   "execution_count": 52,
   "metadata": {},
   "outputs": [
    {
     "name": "stdout",
     "output_type": "stream",
     "text": [
      "Current directory: D:\\DOWNLOADS\\testttt\\final_ifd\\image-forgery-detection-main\n",
      "Files in current directory: ['.gitignore', '.ipynb_checkpoints', 'app-Copy1.py', 'app.py', 'CASIA2', 'image Forgery detection_final.pptx', 'license', 'README.md', 'recompression1.ipynb', 'requirements.txt', 'resaved', 'sigmoid.png', 'softmax_adam_new.h5', 'softmax_rms_new.h5', 'temp.jpg', 'test-Copy1.ipynb', 'test.ipynb', 'train-Copy1.ipynb', 'train.ipynb', 'train_2.ipynb']\n"
     ]
    }
   ],
   "source": [
    "import os\n",
    "print(\"Current directory:\", os.getcwd())\n",
    "print(\"Files in current directory:\", os.listdir())"
   ]
  },
  {
   "cell_type": "code",
   "execution_count": 53,
   "metadata": {},
   "outputs": [],
   "source": [
    "from tensorflow.keras.models import load_model\n",
    "\n",
    "model = load_model('softmax_rms_new.h5')\n"
   ]
  },
  {
   "cell_type": "code",
   "execution_count": 70,
   "metadata": {},
   "outputs": [
    {
     "name": "stdin",
     "output_type": "stream",
     "text": [
      "enter image path: \n",
      " C:\\Users\\hp\\Downloads\\testcases\\testlion.jpg\n"
     ]
    }
   ],
   "source": [
    "from pylab import *\n",
    "path=input(\"enter image path: \\n\")\n",
    "try:\n",
    "    img= Image.open(path)\n",
    "    img=np.array(difference(path).resize((128, 128))).flatten()/255.0\n",
    "    img=img.reshape(-1, 128, 128, 3)\n",
    "    # print(img)\n",
    "except:\n",
    "    print(\"Image does not Exist.\\nWorng path\")"
   ]
  },
  {
   "cell_type": "code",
   "execution_count": 71,
   "metadata": {},
   "outputs": [
    {
     "name": "stdout",
     "output_type": "stream",
     "text": [
      "1/1 [==============================] - 0s 260ms/step\n"
     ]
    }
   ],
   "source": [
    "pred= model.predict(img)[0]"
   ]
  },
  {
   "cell_type": "code",
   "execution_count": 72,
   "metadata": {},
   "outputs": [
    {
     "data": {
      "text/plain": [
       "0.9998381"
      ]
     },
     "execution_count": 72,
     "metadata": {},
     "output_type": "execute_result"
    }
   ],
   "source": [
    "pred[0]"
   ]
  },
  {
   "cell_type": "code",
   "execution_count": 73,
   "metadata": {},
   "outputs": [
    {
     "data": {
      "text/plain": [
       "0.0001618616"
      ]
     },
     "execution_count": 73,
     "metadata": {},
     "output_type": "execute_result"
    }
   ],
   "source": [
    "pred[1]"
   ]
  },
  {
   "cell_type": "code",
   "execution_count": 69,
   "metadata": {},
   "outputs": [
    {
     "name": "stdout",
     "output_type": "stream",
     "text": [
      "Not Forged\n"
     ]
    }
   ],
   "source": [
    "if pred[0]>pred[1]:\n",
    "    print(\"Not Forged\")\n",
    "else:\n",
    "    print('Forged')"
   ]
  },
  {
   "cell_type": "code",
   "execution_count": null,
   "metadata": {},
   "outputs": [],
   "source": []
  }
 ],
 "metadata": {
  "kernelspec": {
   "display_name": "Python 3 (ipykernel)",
   "language": "python",
   "name": "python3"
  },
  "language_info": {
   "codemirror_mode": {
    "name": "ipython",
    "version": 3
   },
   "file_extension": ".py",
   "mimetype": "text/x-python",
   "name": "python",
   "nbconvert_exporter": "python",
   "pygments_lexer": "ipython3",
   "version": "3.11.5"
  },
  "vscode": {
   "interpreter": {
    "hash": "48365518c227e62be147b42d7add44510e7fb62100b3723d8ec93fa6d5610320"
   }
  }
 },
 "nbformat": 4,
 "nbformat_minor": 4
}
